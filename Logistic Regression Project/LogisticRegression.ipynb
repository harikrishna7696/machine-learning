{
 "cells": [
  {
   "cell_type": "code",
   "execution_count": 56,
   "id": "ae0f6777-e5b6-48cf-8d1f-8365554d02fa",
   "metadata": {},
   "outputs": [],
   "source": [
    "import numpy as np\n",
    "import pandas as pd\n",
    "from sklearn.model_selection import train_test_split\n",
    "from sklearn.linear_model import LogisticRegression\n",
    "from sklearn.ensemble import GradientBoostingClassifier"
   ]
  },
  {
   "cell_type": "code",
   "execution_count": 22,
   "id": "1298f6e4-fabc-498e-be43-a2f2d808a207",
   "metadata": {},
   "outputs": [
    {
     "name": "stdout",
     "output_type": "stream",
     "text": [
      "Pclass        0\n",
      "Sex           0\n",
      "Age         132\n",
      "Fare          0\n",
      "Survived      0\n",
      "dtype: int64\n",
      "Pclass     0\n",
      "Sex        0\n",
      "Age       45\n",
      "Fare       0\n",
      "dtype: int64\n"
     ]
    }
   ],
   "source": [
    "df = pd.read_csv('training_titanic_x_y_train.csv', usecols=['Pclass', 'Sex', 'Age', 'Fare', 'Survived'])\n",
    "print(df.isnull().sum())\n",
    "df1 = pd.read_csv('test_titanic_x_test.csv', usecols=['Pclass', 'Sex', 'Age', 'Fare'])\n",
    "print(df1.isnull().sum())"
   ]
  },
  {
   "cell_type": "code",
   "execution_count": 24,
   "id": "d4c13ec7-f6be-4198-85df-67cc7b06c084",
   "metadata": {},
   "outputs": [],
   "source": [
    "df.Age.fillna(df.Age.mean(), inplace=True)\n",
    "df1.Age.fillna(df1.Age.mean(), inplace=True)"
   ]
  },
  {
   "cell_type": "code",
   "execution_count": 26,
   "id": "bbfd2b42-d1fc-4524-94af-8719e1302bf8",
   "metadata": {},
   "outputs": [
    {
     "name": "stdout",
     "output_type": "stream",
     "text": [
      "Pclass      0\n",
      "Sex         0\n",
      "Age         0\n",
      "Fare        0\n",
      "Survived    0\n",
      "dtype: int64\n",
      "Pclass    0\n",
      "Sex       0\n",
      "Age       0\n",
      "Fare      0\n",
      "dtype: int64\n"
     ]
    }
   ],
   "source": [
    "print(df.isnull().sum())\n",
    "print(df1.isnull().sum())"
   ]
  },
  {
   "cell_type": "code",
   "execution_count": 28,
   "id": "7a620588-bda0-46df-a333-fb9bd2d13cde",
   "metadata": {},
   "outputs": [],
   "source": [
    "df.Sex.replace(['female', 'male'], [0, 1], inplace=True)\n",
    "df1.Sex.replace(['female', 'male'], [0, 1], inplace=True)"
   ]
  },
  {
   "cell_type": "code",
   "execution_count": 31,
   "id": "2030856e-b5c0-4e6a-b463-240088da6a44",
   "metadata": {
    "tags": []
   },
   "outputs": [
    {
     "data": {
      "text/html": [
       "<div>\n",
       "<style scoped>\n",
       "    .dataframe tbody tr th:only-of-type {\n",
       "        vertical-align: middle;\n",
       "    }\n",
       "\n",
       "    .dataframe tbody tr th {\n",
       "        vertical-align: top;\n",
       "    }\n",
       "\n",
       "    .dataframe thead th {\n",
       "        text-align: right;\n",
       "    }\n",
       "</style>\n",
       "<table border=\"1\" class=\"dataframe\">\n",
       "  <thead>\n",
       "    <tr style=\"text-align: right;\">\n",
       "      <th></th>\n",
       "      <th>Pclass</th>\n",
       "      <th>Sex</th>\n",
       "      <th>Age</th>\n",
       "      <th>Fare</th>\n",
       "      <th>Survived</th>\n",
       "    </tr>\n",
       "  </thead>\n",
       "  <tbody>\n",
       "    <tr>\n",
       "      <th>0</th>\n",
       "      <td>2</td>\n",
       "      <td>0</td>\n",
       "      <td>29.00000</td>\n",
       "      <td>26.0000</td>\n",
       "      <td>1</td>\n",
       "    </tr>\n",
       "    <tr>\n",
       "      <th>1</th>\n",
       "      <td>3</td>\n",
       "      <td>1</td>\n",
       "      <td>29.70056</td>\n",
       "      <td>8.0500</td>\n",
       "      <td>0</td>\n",
       "    </tr>\n",
       "    <tr>\n",
       "      <th>2</th>\n",
       "      <td>2</td>\n",
       "      <td>1</td>\n",
       "      <td>39.00000</td>\n",
       "      <td>26.0000</td>\n",
       "      <td>0</td>\n",
       "    </tr>\n",
       "    <tr>\n",
       "      <th>3</th>\n",
       "      <td>3</td>\n",
       "      <td>0</td>\n",
       "      <td>29.00000</td>\n",
       "      <td>21.0750</td>\n",
       "      <td>0</td>\n",
       "    </tr>\n",
       "    <tr>\n",
       "      <th>4</th>\n",
       "      <td>3</td>\n",
       "      <td>1</td>\n",
       "      <td>25.00000</td>\n",
       "      <td>7.0500</td>\n",
       "      <td>0</td>\n",
       "    </tr>\n",
       "    <tr>\n",
       "      <th>...</th>\n",
       "      <td>...</td>\n",
       "      <td>...</td>\n",
       "      <td>...</td>\n",
       "      <td>...</td>\n",
       "      <td>...</td>\n",
       "    </tr>\n",
       "    <tr>\n",
       "      <th>663</th>\n",
       "      <td>2</td>\n",
       "      <td>0</td>\n",
       "      <td>17.00000</td>\n",
       "      <td>10.5000</td>\n",
       "      <td>1</td>\n",
       "    </tr>\n",
       "    <tr>\n",
       "      <th>664</th>\n",
       "      <td>3</td>\n",
       "      <td>1</td>\n",
       "      <td>29.70056</td>\n",
       "      <td>7.7500</td>\n",
       "      <td>0</td>\n",
       "    </tr>\n",
       "    <tr>\n",
       "      <th>665</th>\n",
       "      <td>3</td>\n",
       "      <td>1</td>\n",
       "      <td>32.00000</td>\n",
       "      <td>56.4958</td>\n",
       "      <td>1</td>\n",
       "    </tr>\n",
       "    <tr>\n",
       "      <th>666</th>\n",
       "      <td>3</td>\n",
       "      <td>0</td>\n",
       "      <td>22.00000</td>\n",
       "      <td>9.8375</td>\n",
       "      <td>0</td>\n",
       "    </tr>\n",
       "    <tr>\n",
       "      <th>667</th>\n",
       "      <td>3</td>\n",
       "      <td>0</td>\n",
       "      <td>29.70056</td>\n",
       "      <td>15.5000</td>\n",
       "      <td>1</td>\n",
       "    </tr>\n",
       "  </tbody>\n",
       "</table>\n",
       "<p>668 rows × 5 columns</p>\n",
       "</div>"
      ],
      "text/plain": [
       "     Pclass  Sex       Age     Fare  Survived\n",
       "0         2    0  29.00000  26.0000         1\n",
       "1         3    1  29.70056   8.0500         0\n",
       "2         2    1  39.00000  26.0000         0\n",
       "3         3    0  29.00000  21.0750         0\n",
       "4         3    1  25.00000   7.0500         0\n",
       "..      ...  ...       ...      ...       ...\n",
       "663       2    0  17.00000  10.5000         1\n",
       "664       3    1  29.70056   7.7500         0\n",
       "665       3    1  32.00000  56.4958         1\n",
       "666       3    0  22.00000   9.8375         0\n",
       "667       3    0  29.70056  15.5000         1\n",
       "\n",
       "[668 rows x 5 columns]"
      ]
     },
     "execution_count": 31,
     "metadata": {},
     "output_type": "execute_result"
    }
   ],
   "source": [
    "df"
   ]
  },
  {
   "cell_type": "code",
   "execution_count": 34,
   "id": "7f4470ad-6804-4b9e-9f8b-2d6c784fdf23",
   "metadata": {
    "tags": []
   },
   "outputs": [],
   "source": [
    "X_train = df.iloc[:, :4]\n",
    "Y_train = df.iloc[:, 4]\n",
    "X_test = df1.iloc[:, :4]"
   ]
  },
  {
   "cell_type": "code",
   "execution_count": 35,
   "id": "08a4238b-ce99-42dc-87ea-3d73c9584684",
   "metadata": {},
   "outputs": [
    {
     "data": {
      "text/plain": [
       "((668, 4), (668,), (223, 4))"
      ]
     },
     "execution_count": 35,
     "metadata": {},
     "output_type": "execute_result"
    }
   ],
   "source": [
    "X_train.shape, Y_train.shape, X_test.shape"
   ]
  },
  {
   "cell_type": "code",
   "execution_count": 47,
   "id": "e9e1e032-4561-40b1-8607-4e6357c09cc8",
   "metadata": {
    "tags": []
   },
   "outputs": [],
   "source": [
    "scaler = StandardScaler()\n",
    "scaler.fit(X_train)\n",
    "X_train_scaler = scaler.transform(X_train)\n",
    "X_test_scaler = scaler.transform(X_test)"
   ]
  },
  {
   "cell_type": "code",
   "execution_count": 52,
   "id": "5ed232a5-aec7-4338-8061-ac3aa00e51ae",
   "metadata": {},
   "outputs": [],
   "source": [
    "model = GradientBoostingClassifier(random_state=0, learning_rate=0.01, max_depth=9,min_samples_leaf=2,n_estimators=200, min_samples_split=3)\n",
    "alg = LogisticRegression(random_state=0, solver='liblinear')\n",
    "alg.fit(X_train, Y_train)\n",
    "Y_pred = alg.predict(X_test)\n",
    "model.fit(X_train, Y_train)\n",
    "Y_pred = alg.predict(X_test)\n",
    "Y_pred_gradient = model.predict(X_test)"
   ]
  },
  {
   "cell_type": "code",
   "execution_count": 53,
   "id": "ece77cbf-39b5-4a79-afe6-c77d7f63c7a9",
   "metadata": {},
   "outputs": [],
   "source": [
    "np.savetxt('LogisticPredictions.csv', Y_pred)\n",
    "np.savetxt('LogisticPredictionsGradient.csv', Y_pred_gradient)"
   ]
  },
  {
   "cell_type": "code",
   "execution_count": 54,
   "id": "ed7808ad-6f73-4ffd-9a02-4de3a483648a",
   "metadata": {},
   "outputs": [
    {
     "data": {
      "text/plain": [
       "0.7784431137724551"
      ]
     },
     "execution_count": 54,
     "metadata": {},
     "output_type": "execute_result"
    }
   ],
   "source": [
    "alg.score(X_train, Y_train)"
   ]
  },
  {
   "cell_type": "code",
   "execution_count": 55,
   "id": "f064cb3a-75ca-436c-8c79-ca93df8c7432",
   "metadata": {},
   "outputs": [
    {
     "data": {
      "text/plain": [
       "0.9431137724550899"
      ]
     },
     "execution_count": 55,
     "metadata": {},
     "output_type": "execute_result"
    }
   ],
   "source": [
    "model.score(X_train, Y_train)"
   ]
  }
 ],
 "metadata": {
  "kernelspec": {
   "display_name": "Python 3 (ipykernel)",
   "language": "python",
   "name": "python3"
  },
  "language_info": {
   "codemirror_mode": {
    "name": "ipython",
    "version": 3
   },
   "file_extension": ".py",
   "mimetype": "text/x-python",
   "name": "python",
   "nbconvert_exporter": "python",
   "pygments_lexer": "ipython3",
   "version": "3.10.6"
  }
 },
 "nbformat": 4,
 "nbformat_minor": 5
}

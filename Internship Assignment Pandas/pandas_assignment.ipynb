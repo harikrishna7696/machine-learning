{
 "cells": [
  {
   "cell_type": "code",
   "execution_count": 1,
   "id": "79094dc1-4c16-481c-99e0-e50a15654df1",
   "metadata": {},
   "outputs": [],
   "source": [
    "import pandas as pd # importing pandas library"
   ]
  },
  {
   "cell_type": "code",
   "execution_count": 3,
   "id": "e46c06d8-29a9-4891-abcc-1c40a19cf09b",
   "metadata": {},
   "outputs": [
    {
     "data": {
      "text/plain": [
       "(1143, 15)"
      ]
     },
     "execution_count": 3,
     "metadata": {},
     "output_type": "execute_result"
    }
   ],
   "source": [
    "data = pd.read_csv('data.csv')  # reading the csv file using read_csv function\n",
    "data.shape"
   ]
  },
  {
   "cell_type": "code",
   "execution_count": 68,
   "id": "0e584f67-cc9e-410d-a923-47fcb0721a06",
   "metadata": {},
   "outputs": [
    {
     "name": "stdout",
     "output_type": "stream",
     "text": [
      "Index(['ad_id', 'reporting_start', 'reporting_end', 'campaign_id',\n",
      "       'fb_campaign_id', 'age', 'gender', 'interest1', 'interest2',\n",
      "       'interest3', 'impressions', 'clicks', 'spent', 'total_conversion',\n",
      "       'approved_conversion'],\n",
      "      dtype='object')\n"
     ]
    }
   ],
   "source": [
    "print(data.columns) # checking the column names"
   ]
  },
  {
   "cell_type": "code",
   "execution_count": 69,
   "id": "5bca8ca6-fafc-43ae-8f8d-a52d350b8099",
   "metadata": {},
   "outputs": [
    {
     "data": {
      "text/plain": [
       "ad_id                    0\n",
       "reporting_start          0\n",
       "reporting_end            0\n",
       "campaign_id              0\n",
       "fb_campaign_id           0\n",
       "age                      0\n",
       "gender                   0\n",
       "interest1                0\n",
       "interest2                0\n",
       "interest3                0\n",
       "impressions              0\n",
       "clicks                   0\n",
       "spent                    0\n",
       "total_conversion       382\n",
       "approved_conversion    382\n",
       "dtype: int64"
      ]
     },
     "execution_count": 69,
     "metadata": {},
     "output_type": "execute_result"
    }
   ],
   "source": [
    "data.isnull().sum() # checking is there any null values present or not\n",
    "# here last two columns have the null values but for this assignment tasks those columns are not need so iam ignoring."
   ]
  },
  {
   "cell_type": "markdown",
   "id": "7f4966da-cf8e-4a6a-b3c5-dbd98f54a24a",
   "metadata": {},
   "source": [
    "#### calculate total impressions for the age group 30-34,"
   ]
  },
  {
   "cell_type": "code",
   "execution_count": 18,
   "id": "843c9384-1521-4af7-ac78-1f1ba0e7314a",
   "metadata": {},
   "outputs": [
    {
     "name": "stdout",
     "output_type": "stream",
     "text": [
      "impressions:  35678593.0\n"
     ]
    }
   ],
   "source": [
    "# giving condition of age group it returns the true impression values series using sum\n",
    "total_impressions = sum(data[data.age == '30-34']['impressions']) \n",
    "print('impressions: ', total_impressions)"
   ]
  },
  {
   "cell_type": "markdown",
   "id": "ecfad05c-2dce-41e6-b114-6da84b41ffdf",
   "metadata": {},
   "source": [
    "##  get all ad_ids for every campaign_id (a campaign contains multiple ads)"
   ]
  },
  {
   "cell_type": "code",
   "execution_count": 19,
   "id": "3de3b846-a83b-4c48-aec7-7053283f4408",
   "metadata": {},
   "outputs": [
    {
     "data": {
      "text/html": [
       "<div>\n",
       "<style scoped>\n",
       "    .dataframe tbody tr th:only-of-type {\n",
       "        vertical-align: middle;\n",
       "    }\n",
       "\n",
       "    .dataframe tbody tr th {\n",
       "        vertical-align: top;\n",
       "    }\n",
       "\n",
       "    .dataframe thead th {\n",
       "        text-align: right;\n",
       "    }\n",
       "</style>\n",
       "<table border=\"1\" class=\"dataframe\">\n",
       "  <thead>\n",
       "    <tr style=\"text-align: right;\">\n",
       "      <th></th>\n",
       "      <th>ad_id</th>\n",
       "      <th>reporting_start</th>\n",
       "      <th>reporting_end</th>\n",
       "      <th>campaign_id</th>\n",
       "      <th>fb_campaign_id</th>\n",
       "      <th>age</th>\n",
       "      <th>gender</th>\n",
       "      <th>interest1</th>\n",
       "      <th>interest2</th>\n",
       "      <th>interest3</th>\n",
       "      <th>impressions</th>\n",
       "      <th>clicks</th>\n",
       "      <th>spent</th>\n",
       "      <th>total_conversion</th>\n",
       "      <th>approved_conversion</th>\n",
       "    </tr>\n",
       "  </thead>\n",
       "  <tbody>\n",
       "    <tr>\n",
       "      <th>0</th>\n",
       "      <td>708746</td>\n",
       "      <td>17/08/2017</td>\n",
       "      <td>17/08/2017</td>\n",
       "      <td>916</td>\n",
       "      <td>103916</td>\n",
       "      <td>30-34</td>\n",
       "      <td>M</td>\n",
       "      <td>15</td>\n",
       "      <td>17</td>\n",
       "      <td>17</td>\n",
       "      <td>7350.0</td>\n",
       "      <td>1</td>\n",
       "      <td>1.43</td>\n",
       "      <td>2.0</td>\n",
       "      <td>1.0</td>\n",
       "    </tr>\n",
       "    <tr>\n",
       "      <th>1</th>\n",
       "      <td>708749</td>\n",
       "      <td>17/08/2017</td>\n",
       "      <td>17/08/2017</td>\n",
       "      <td>916</td>\n",
       "      <td>103917</td>\n",
       "      <td>30-34</td>\n",
       "      <td>M</td>\n",
       "      <td>16</td>\n",
       "      <td>19</td>\n",
       "      <td>21</td>\n",
       "      <td>17861.0</td>\n",
       "      <td>2</td>\n",
       "      <td>1.82</td>\n",
       "      <td>2.0</td>\n",
       "      <td>0.0</td>\n",
       "    </tr>\n",
       "    <tr>\n",
       "      <th>2</th>\n",
       "      <td>708771</td>\n",
       "      <td>17/08/2017</td>\n",
       "      <td>17/08/2017</td>\n",
       "      <td>916</td>\n",
       "      <td>103920</td>\n",
       "      <td>30-34</td>\n",
       "      <td>M</td>\n",
       "      <td>20</td>\n",
       "      <td>25</td>\n",
       "      <td>22</td>\n",
       "      <td>693.0</td>\n",
       "      <td>0</td>\n",
       "      <td>0.00</td>\n",
       "      <td>1.0</td>\n",
       "      <td>0.0</td>\n",
       "    </tr>\n",
       "    <tr>\n",
       "      <th>3</th>\n",
       "      <td>708815</td>\n",
       "      <td>30/08/2017</td>\n",
       "      <td>30/08/2017</td>\n",
       "      <td>916</td>\n",
       "      <td>103928</td>\n",
       "      <td>30-34</td>\n",
       "      <td>M</td>\n",
       "      <td>28</td>\n",
       "      <td>32</td>\n",
       "      <td>32</td>\n",
       "      <td>4259.0</td>\n",
       "      <td>1</td>\n",
       "      <td>1.25</td>\n",
       "      <td>1.0</td>\n",
       "      <td>0.0</td>\n",
       "    </tr>\n",
       "    <tr>\n",
       "      <th>4</th>\n",
       "      <td>708818</td>\n",
       "      <td>17/08/2017</td>\n",
       "      <td>17/08/2017</td>\n",
       "      <td>916</td>\n",
       "      <td>103928</td>\n",
       "      <td>30-34</td>\n",
       "      <td>M</td>\n",
       "      <td>28</td>\n",
       "      <td>33</td>\n",
       "      <td>32</td>\n",
       "      <td>4133.0</td>\n",
       "      <td>1</td>\n",
       "      <td>1.29</td>\n",
       "      <td>1.0</td>\n",
       "      <td>1.0</td>\n",
       "    </tr>\n",
       "  </tbody>\n",
       "</table>\n",
       "</div>"
      ],
      "text/plain": [
       "    ad_id reporting_start reporting_end campaign_id fb_campaign_id    age  \\\n",
       "0  708746      17/08/2017    17/08/2017         916         103916  30-34   \n",
       "1  708749      17/08/2017    17/08/2017         916         103917  30-34   \n",
       "2  708771      17/08/2017    17/08/2017         916         103920  30-34   \n",
       "3  708815      30/08/2017    30/08/2017         916         103928  30-34   \n",
       "4  708818      17/08/2017    17/08/2017         916         103928  30-34   \n",
       "\n",
       "  gender  interest1  interest2  interest3  impressions  clicks  spent  \\\n",
       "0      M         15         17         17       7350.0       1   1.43   \n",
       "1      M         16         19         21      17861.0       2   1.82   \n",
       "2      M         20         25         22        693.0       0   0.00   \n",
       "3      M         28         32         32       4259.0       1   1.25   \n",
       "4      M         28         33         32       4133.0       1   1.29   \n",
       "\n",
       "   total_conversion  approved_conversion  \n",
       "0               2.0                  1.0  \n",
       "1               2.0                  0.0  \n",
       "2               1.0                  0.0  \n",
       "3               1.0                  0.0  \n",
       "4               1.0                  1.0  "
      ]
     },
     "execution_count": 19,
     "metadata": {},
     "output_type": "execute_result"
    }
   ],
   "source": [
    "data.head()"
   ]
  },
  {
   "cell_type": "code",
   "execution_count": 86,
   "id": "da4ca7b3-be6e-4ded-8916-c7e04f9c8b7d",
   "metadata": {},
   "outputs": [
    {
     "name": "stdout",
     "output_type": "stream",
     "text": [
      "id->916: values-> 0     708746\n",
      "1     708749\n",
      "2     708771\n",
      "3     708815\n",
      "4     708818\n",
      "5     708820\n",
      "6     708889\n",
      "7     708895\n",
      "8     708953\n",
      "9     708958\n",
      "10    708979\n",
      "11    709023\n",
      "12    709038\n",
      "13    709040\n",
      "14    709059\n",
      "15    709105\n",
      "16    709115\n",
      "17    709124\n",
      "18    709179\n",
      "19    709183\n",
      "20    709320\n",
      "21    709323\n",
      "22    709326\n",
      "23    709327\n",
      "24    709328\n",
      "25    709455\n",
      "26    709544\n",
      "27    709614\n",
      "28    709756\n",
      "29    709761\n",
      "30    709899\n",
      "31    709901\n",
      "32    710045\n",
      "33    710088\n",
      "34    710360\n",
      "35    710477\n",
      "36    710480\n",
      "37    710571\n",
      "38    710617\n",
      "39    710623\n",
      "40    710628\n",
      "41    710682\n",
      "42    710763\n",
      "43    710836\n",
      "44    710867\n",
      "45    710880\n",
      "46    710961\n",
      "47    710968\n",
      "48    711217\n",
      "49    711623\n",
      "50    711764\n",
      "51    711785\n",
      "52    711877\n",
      "53    712052\n",
      "Name: ad_id, dtype: int64\n",
      "id->936: values-> 54     734209\n",
      "55     734210\n",
      "56     734215\n",
      "57     734243\n",
      "58     734266\n",
      "        ...  \n",
      "513    951941\n",
      "514    952001\n",
      "515    952031\n",
      "516    952080\n",
      "517    952100\n",
      "Name: ad_id, Length: 464, dtype: int64\n",
      "id->1178: values-> 518    1121091\n",
      "519    1121092\n",
      "520    1121094\n",
      "521    1121095\n",
      "522    1121096\n",
      "        ...   \n",
      "756    1121585\n",
      "757    1121589\n",
      "758    1121590\n",
      "759    1121592\n",
      "760    1121593\n",
      "Name: ad_id, Length: 243, dtype: int64\n",
      "id->45-49: values-> 761     1121594\n",
      "762     1121597\n",
      "763     1121598\n",
      "764     1121599\n",
      "765     1121601\n",
      "         ...   \n",
      "1138    1314410\n",
      "1139    1314411\n",
      "1140    1314412\n",
      "1141    1314414\n",
      "1142    1314415\n",
      "Name: ad_id, Length: 144, dtype: int64\n",
      "id->30-34: values-> 824     1121741\n",
      "825     1121742\n",
      "826     1121745\n",
      "827     1121746\n",
      "828     1121749\n",
      "         ...   \n",
      "1098    1314364\n",
      "1099    1314365\n",
      "1100    1314366\n",
      "1101    1314367\n",
      "1102    1314368\n",
      "Name: ad_id, Length: 99, dtype: int64\n",
      "id->35-39: values-> 901     1121889\n",
      "902     1121890\n",
      "903     1121891\n",
      "904     1121894\n",
      "905     1121895\n",
      "         ...   \n",
      "1110    1314381\n",
      "1111    1314382\n",
      "1112    1314383\n",
      "1113    1314384\n",
      "1114    1314385\n",
      "Name: ad_id, Length: 68, dtype: int64\n",
      "id->40-44: values-> 946     1122039\n",
      "947     1122040\n",
      "948     1122041\n",
      "949     1122043\n",
      "950     1122044\n",
      "         ...   \n",
      "1124    1314395\n",
      "1125    1314396\n",
      "1126    1314397\n",
      "1127    1314398\n",
      "1128    1314400\n",
      "Name: ad_id, Length: 71, dtype: int64\n"
     ]
    }
   ],
   "source": [
    "ids = data.campaign_id.unique()\n",
    "for i in ids:\n",
    "    print(f'id->{i}: values-> {data[data.campaign_id == i][\"ad_id\"]}')"
   ]
  },
  {
   "cell_type": "markdown",
   "id": "fa23068f-7faf-4d6e-a9d3-2d88b5bfb93a",
   "metadata": {},
   "source": [
    "## get total clicks where report_start between dates 19/08/2017 to 22/08/2017 (both inclusive)"
   ]
  },
  {
   "cell_type": "code",
   "execution_count": 44,
   "id": "5f7884e8-96f0-48f4-b3ce-a2e9497b8fe7",
   "metadata": {},
   "outputs": [
    {
     "name": "stdout",
     "output_type": "stream",
     "text": [
      "total clicks:  3763\n"
     ]
    }
   ],
   "source": [
    "start = '19/08/2017'\n",
    "end = '22/08/2017'\n",
    "d = (data.reporting_start >= start) & (data.reporting_end <= end)\n",
    "total_clicks = sum(data[d]['clicks'])\n",
    "print('total clicks: ', total_clicks)"
   ]
  }
 ],
 "metadata": {
  "kernelspec": {
   "display_name": "Python 3 (ipykernel)",
   "language": "python",
   "name": "python3"
  },
  "language_info": {
   "codemirror_mode": {
    "name": "ipython",
    "version": 3
   },
   "file_extension": ".py",
   "mimetype": "text/x-python",
   "name": "python",
   "nbconvert_exporter": "python",
   "pygments_lexer": "ipython3",
   "version": "3.10.6"
  }
 },
 "nbformat": 4,
 "nbformat_minor": 5
}
